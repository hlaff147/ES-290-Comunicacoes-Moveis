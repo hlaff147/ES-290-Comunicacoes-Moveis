{
 "cells": [
  {
   "cell_type": "code",
   "execution_count": 9,
   "metadata": {},
   "outputs": [],
   "source": [
    "import pandas as pd\n"
   ]
  },
  {
   "cell_type": "markdown",
   "metadata": {},
   "source": [
    "Importação dos datasets\n"
   ]
  },
  {
   "cell_type": "code",
   "execution_count": 10,
   "metadata": {},
   "outputs": [],
   "source": [
    "df_bts = pd.read_csv('project_files/01_raw_files/Bts.csv')\n",
    "df_test_alunos = pd.read_csv('project_files/01_raw_files/meds_test_alunos.csv')\n",
    "df_train_alunos = pd.read_csv('project_files/01_raw_files/meds_train_alunos.csv')"
   ]
  },
  {
   "cell_type": "markdown",
   "metadata": {},
   "source": [
    "Tratamento de dados inicial"
   ]
  },
  {
   "cell_type": "code",
   "execution_count": 11,
   "metadata": {},
   "outputs": [],
   "source": [
    "#renomeando colunas para um padrão, para facilitar o entendimento do dataset.\n",
    "\n",
    "df_bts.rename(columns = {'grupo': 'id_localizacao_setor', 'btsId': 'id_bts', 'btsNetNome': 'nom_bts', 'lat': 'num_lat_bts', 'lon': 'num_long_bts', 'cch': 'nom_canal_controle_bts', 'azimuth': 'num_azimuth', 'RssiId': 'id_rrsi'}, inplace=True)\n",
    "df_train_alunos.rename(columns = {'ponto_id':'id_ponto', 'lat': 'num_lat_bts', 'lon': 'num_long_bts', 'indoor': 'flag_indoor'}, inplace=True)\n",
    "df_test_alunos.rename(columns = {'ponto_id':'id_ponto'}, inplace=True)\n"
   ]
  },
  {
   "cell_type": "code",
   "execution_count": 12,
   "metadata": {},
   "outputs": [],
   "source": [
    "#Converte cada coluna de valores em numérico, corrigindo assim possíveis erros de preenchimento.\n",
    "\n",
    "# Lista das colunas de valores\n",
    "lista_valores = [\n",
    "    'rssi_1_1', 'rssi_1_2', 'rssi_1_3', 'rssi_2_1', 'rssi_2_2',\n",
    "    'rssi_2_3', 'rssi_3_1', 'rssi_3_2', 'rssi_3_3', 'num_lat_bts', 'num_long_bts'\n",
    "]\n",
    "\n",
    "for col in lista_valores:\n",
    "    df_train_alunos[col] = pd.to_numeric(df_train_alunos[col], errors='coerce')\n",
    "    df_test_alunos[col] = pd.to_numeric(df_train_alunos[col], errors='coerce')"
   ]
  },
  {
   "cell_type": "code",
   "execution_count": 13,
   "metadata": {},
   "outputs": [
    {
     "name": "stdout",
     "output_type": "stream",
     "text": [
      "<class 'pandas.core.frame.DataFrame'>\n",
      "RangeIndex: 6775 entries, 0 to 6774\n",
      "Data columns (total 16 columns):\n",
      " #   Column        Non-Null Count  Dtype  \n",
      "---  ------        --------------  -----  \n",
      " 0   id_ponto      6775 non-null   int64  \n",
      " 1   rssi_1_1      6775 non-null   float64\n",
      " 2   rssi_1_2      6775 non-null   float64\n",
      " 3   rssi_1_3      6775 non-null   float64\n",
      " 4   rssi_2_1      6775 non-null   float64\n",
      " 5   rssi_2_2      6775 non-null   float64\n",
      " 6   rssi_2_3      6775 non-null   float64\n",
      " 7   rssi_3_1      6775 non-null   float64\n",
      " 8   rssi_3_2      6775 non-null   float64\n",
      " 9   rssi_3_3      6775 non-null   float64\n",
      " 10  delay_1       6775 non-null   float64\n",
      " 11  delay_2       6775 non-null   float64\n",
      " 12  delay_3       6775 non-null   float64\n",
      " 13  num_lat_bts   6775 non-null   float64\n",
      " 14  num_long_bts  6775 non-null   float64\n",
      " 15  flag_indoor   6775 non-null   bool   \n",
      "dtypes: bool(1), float64(14), int64(1)\n",
      "memory usage: 800.7 KB\n"
     ]
    }
   ],
   "source": [
    "df_train_alunos.info()\n"
   ]
  },
  {
   "cell_type": "markdown",
   "metadata": {},
   "source": [
    "Exportação dos datasets\n"
   ]
  },
  {
   "cell_type": "code",
   "execution_count": 14,
   "metadata": {},
   "outputs": [],
   "source": [
    "df_bts.to_csv('project_files/02_pre_processed_files/bts.csv')\n",
    "df_train_alunos.to_csv('project_files/02_pre_processed_files/meds_train_alunos.csv')\n",
    "df_test_alunos.to_csv('project_files/02_pre_processed_files/meds_test_alunos.csv')"
   ]
  }
 ],
 "metadata": {
  "kernelspec": {
   "display_name": "Python 3",
   "language": "python",
   "name": "python3"
  },
  "language_info": {
   "codemirror_mode": {
    "name": "ipython",
    "version": 3
   },
   "file_extension": ".py",
   "mimetype": "text/x-python",
   "name": "python",
   "nbconvert_exporter": "python",
   "pygments_lexer": "ipython3",
   "version": "3.11.5"
  },
  "orig_nbformat": 4
 },
 "nbformat": 4,
 "nbformat_minor": 2
}
