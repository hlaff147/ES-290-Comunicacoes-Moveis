{
 "cells": [
  {
   "cell_type": "code",
   "execution_count": 64,
   "metadata": {},
   "outputs": [],
   "source": [
    "import pandas as pd\n"
   ]
  },
  {
   "cell_type": "markdown",
   "metadata": {},
   "source": [
    "Importação dos datasets\n"
   ]
  },
  {
   "cell_type": "code",
   "execution_count": 65,
   "metadata": {},
   "outputs": [],
   "source": [
    "df_bts = pd.read_csv('raw_files/Bts.csv')\n",
    "df_test_alunos = pd.read_csv('raw_files/meds_test_alunos.csv')\n",
    "df_train_alunos = pd.read_csv('raw_files/meds_train_alunos.csv')"
   ]
  },
  {
   "cell_type": "markdown",
   "metadata": {},
   "source": [
    "Tratamento de dados inicial"
   ]
  },
  {
   "cell_type": "code",
   "execution_count": 66,
   "metadata": {},
   "outputs": [],
   "source": [
    "#renomeando colunas para um padrão, para facilitar o entendimento do dataset.\n",
    "\n",
    "df_bts.rename(columns = {'grupo': 'id_localizacao_setor', 'btsId': 'id_bts', 'btsNetNome': 'nom_bts', 'lat': 'num_lat_bts', 'lon': 'num_long_bts', 'cch': 'nom_canal_controle_bts', 'azimuth': 'num_azimuth', 'RssiId': 'id_rrsi'}, inplace=True)\n",
    "df_train_alunos.rename(columns = {'ponto_id':'id_ponto', 'lat': 'num_lat_bts', 'lon': 'num_long_bts', 'indoor': 'flag_indoor'}, inplace=True)\n",
    "df_test_alunos.rename(columns = {'ponto_id':'id_ponto'}, inplace=True)\n"
   ]
  },
  {
   "cell_type": "code",
   "execution_count": 67,
   "metadata": {},
   "outputs": [],
   "source": [
    "#Converte cada coluna em sinal_cols para numérico, corrigindo assim erros de preenchimento.\n",
    "\n",
    "# Lista das colunas de sinais\n",
    "sinal_cols = [\n",
    "    'rssi_1_1', 'rssi_1_2', 'rssi_1_3', 'rssi_2_1', 'rssi_2_2',\n",
    "    'rssi_2_3', 'rssi_3_1', 'rssi_3_2', 'rssi_3_3'\n",
    "]\n",
    "\n",
    "for col in sinal_cols:\n",
    "    df_train_alunos[col] = pd.to_numeric(df_train_alunos[col], errors='coerce')\n",
    "    df_test_alunos[col] = pd.to_numeric(df_train_alunos[col], errors='coerce')"
   ]
  },
  {
   "cell_type": "code",
   "execution_count": 68,
   "metadata": {},
   "outputs": [],
   "source": [
    "# Remove os pontos e converte as strings para float\n",
    "df_train_alunos['num_lat_bts'] = df_train_alunos['num_lat_bts'].str.replace('.', '').astype(float) / 1e6\n",
    "df_train_alunos['num_long_bts'] = df_train_alunos['num_long_bts'].str.replace('.', '').astype(float) / 1e6"
   ]
  },
  {
   "cell_type": "markdown",
   "metadata": {},
   "source": [
    "Exportação dos datasets\n"
   ]
  },
  {
   "cell_type": "code",
   "execution_count": null,
   "metadata": {},
   "outputs": [],
   "source": [
    "df_bts.to_csv('processed_files/bts.csv')\n",
    "df_train_alunos.to_csv('processed_files/meds_train_alunos.csv')\n",
    "df_test_alunos.to_csv('processed_files/meds_test_alunos.csv')"
   ]
  }
 ],
 "metadata": {
  "kernelspec": {
   "display_name": "Python 3",
   "language": "python",
   "name": "python3"
  },
  "language_info": {
   "codemirror_mode": {
    "name": "ipython",
    "version": 3
   },
   "file_extension": ".py",
   "mimetype": "text/x-python",
   "name": "python",
   "nbconvert_exporter": "python",
   "pygments_lexer": "ipython3",
   "version": "3.11.4"
  },
  "orig_nbformat": 4
 },
 "nbformat": 4,
 "nbformat_minor": 2
}
